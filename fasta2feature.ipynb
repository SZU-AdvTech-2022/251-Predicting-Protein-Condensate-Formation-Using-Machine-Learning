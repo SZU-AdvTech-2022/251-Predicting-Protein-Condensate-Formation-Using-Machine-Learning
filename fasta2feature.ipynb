{
 "cells": [
  {
   "cell_type": "markdown",
   "metadata": {},
   "source": [
    "# Imports\n",
    "Versions <br>\n",
    "python - 3.6.7 <br>\n",
    "Pandas - 0.23.4 <br>\n",
    "Biopython - 1.73 <br>\n",
    "Scipy - 1.2.0 <br>\n",
    "iupred2d - https://iupred2a.elte.hu/download <br>"
   ]
  },
  {
   "cell_type": "code",
   "execution_count": 3,
   "metadata": {},
   "outputs": [
    {
     "name": "stderr",
     "output_type": "stream",
     "text": [
      "e:\\anaconda3\\lib\\site-packages\\scipy\\__init__.py:138: UserWarning: A NumPy version >=1.16.5 and <1.23.0 is required for this version of SciPy (detected version 1.23.1)\n",
      "  warnings.warn(f\"A NumPy version >={np_minversion} and <{np_maxversion} is required for this version of \"\n"
     ]
    }
   ],
   "source": [
    "import os\n",
    "import ntpath\n",
    "import datetime\n",
    "import pandas as pd\n",
    "from Bio import SeqIO\n",
    "#信号处理\n",
    "from scipy import signal\n",
    "#计算蛋白质序列每个位置的内在无序得分\n",
    "#在UIPred2A中得分高于0.5、0.6、0.7、0.8和0,9的氨基酸的比例\n",
    "import iupred2a_lib\n",
    "#计算每种氨基酸的百分比、长度、等电点、分子量、肉汤、芳香性以及alpha螺旋、beta转角和beta薄片的分数\n",
    "from Bio.SeqUtils.ProtParam import ProteinAnalysis\n",
    "from tqdm.auto import tqdm\n",
    "\n",
    "from multiprocessing import Pool\n",
    "# Windows\n",
    "CWD = os.getcwd()"
   ]
  },
  {
   "cell_type": "markdown",
   "metadata": {},
   "source": [
    "# Statics"
   ]
  },
  {
   "cell_type": "code",
   "execution_count": 2,
   "metadata": {},
   "outputs": [
    {
     "name": "stdout",
     "output_type": "stream",
     "text": [
      "Collecting biopython\n",
      "  Downloading biopython-1.80-cp38-cp38-win_amd64.whl (2.7 MB)\n",
      "     ---------------------------------------- 2.7/2.7 MB 1.3 MB/s eta 0:00:00\n",
      "Requirement already satisfied: numpy in e:\\anaconda3\\lib\\site-packages (from biopython) (1.23.1)\n",
      "Installing collected packages: biopython\n",
      "Successfully installed biopython-1.80\n",
      "Note: you may need to restart the kernel to use updated packages.\n"
     ]
    },
    {
     "name": "stderr",
     "output_type": "stream",
     "text": [
      "WARNING: Ignoring invalid distribution -iopython (e:\\anaconda3\\lib\\site-packages)\n",
      "WARNING: Ignoring invalid distribution -iopython (e:\\anaconda3\\lib\\site-packages)\n",
      "WARNING: Ignoring invalid distribution -iopython (e:\\anaconda3\\lib\\site-packages)\n",
      "WARNING: Ignoring invalid distribution -iopython (e:\\anaconda3\\lib\\site-packages)\n",
      "WARNING: Ignoring invalid distribution -iopython (e:\\anaconda3\\lib\\site-packages)\n",
      "WARNING: Ignoring invalid distribution -iopython (e:\\anaconda3\\lib\\site-packages)\n",
      "WARNING: Ignoring invalid distribution -iopython (e:\\anaconda3\\lib\\site-packages)\n"
     ]
    }
   ],
   "source": [
    "pip install biopython"
   ]
  },
  {
   "cell_type": "code",
   "execution_count": 2,
   "metadata": {},
   "outputs": [],
   "source": [
    "RESIDUES = ['A', 'C', 'D', 'E', 'F', 'G', 'H', 'I', 'K', 'L',\n",
    "            'M', 'N', 'P', 'Q', 'R', 'S', 'T', 'V', 'W', 'Y']\n",
    "\n",
    "# Kyte & Doolittle {kd} index of hydrophobicity\n",
    "HP = {'A': 1.8, 'R':-4.5, 'N':-3.5, 'D':-3.5, 'C': 2.5,\n",
    "      'Q':-3.5, 'E':-3.5, 'G':-0.4, 'H':-3.2, 'I': 4.5,\n",
    "      'L': 3.8, 'K':-3.9, 'M': 1.9, 'F': 2.8, 'P':-1.6,\n",
    "      'S':-0.8, 'T':-0.7, 'W':-0.9, 'Y':-1.3, 'V': 4.2, 'U': 0.0}"
   ]
  },
  {
   "cell_type": "markdown",
   "metadata": {},
   "source": [
    "# Classes"
   ]
  },
  {
   "cell_type": "code",
   "execution_count": 3,
   "metadata": {},
   "outputs": [],
   "source": [
    "import time\n",
    "#\n",
    "class IuPred:\n",
    "    def __init__(self, glob, short, long):\n",
    "        self.glob = glob\n",
    "        self.short = short\n",
    "        self.long = long\n",
    "\n",
    "\n",
    "class HydroPhobicIndex:\n",
    "    def __init__(self, hpilist):\n",
    "        self.hpilist = hpilist\n",
    "        \n",
    "def calc_idrpred(args):\n",
    "    idx, seq = args\n",
    "    glob = iupred2a.iupred(str(seq), 'glob')\n",
    "    short = iupred2a.iupred(str(seq), 'short')\n",
    "    long = iupred2a.iupred(str(seq), 'long')\n",
    "    idrpred = IuPred(glob, short, long)\n",
    "    return idx, idrpred\n",
    "        \n",
    "\n",
    "class MakeMatrix:\n",
    "    def __init__(self, dbfasta):  \n",
    "        self.df = pd.DataFrame()\n",
    "        executables = [\n",
    "             'self.fasta2df(dbfasta)',\n",
    "             'self.amino_acid_analysis()',\n",
    "             'self.idr_iupred()',\n",
    "             'self.hydrophobic()',\n",
    "             'self.add_iupred_features()',\n",
    "             'self.add_hydrophobic_features()',\n",
    "             'self.add_biochemical_combinations()',\n",
    "             'self.add_lowcomplexity_features()' ,\n",
    "            # 'self.add_plaac()'\n",
    "        ]        \n",
    "        for e in executables:\n",
    "            start = time.time()     \n",
    "            print(e)\n",
    "            exec(e)\n",
    "            end = time.time()        \n",
    "            print(str(round(end - start, 2))+'s '+e)\n",
    "\n",
    "    def fasta2df(self, dbfasta):\n",
    "        rows = list()\n",
    "        with open(dbfasta) as f:\n",
    "            #读取包含多个序列的fasta格式文件\n",
    "            for record in SeqIO.parse(dbfasta, 'fasta'):\n",
    "                seqdict = dict()\n",
    "                seq = str(record.seq)\n",
    "                id = record.description.split('|')                \n",
    "                if id[0] == 'sp':\n",
    "                    uniprot_id = id[1]\n",
    "                    name = id[2].split(' ')[0]\n",
    "                    rows.append([name, uniprot_id, seq])\n",
    "                elif id[0] == 'tr':\n",
    "                    uniprot_id = id[1]\n",
    "                    name = id[2].split(' ')[0]\n",
    "                    rows.append([name, uniprot_id, seq])\n",
    "                else:\n",
    "                    uniprot_id = id[0]\n",
    "                    name = id[2].split(' ')[0]\n",
    "                    rows.append([name, uniprot_id, seq])                    \n",
    "        self.df = pd.DataFrame(rows, columns=['protein_name', 'uniprot_id', 'sequence'])\n",
    "        print(len(self.df))#返回序列的个数\n",
    "\n",
    "#     def set_identifiers(self, fastas):\n",
    "#         self.df['llps'] = 0\n",
    "#         for i in fastas:\n",
    "#             fname = ntpath.basename(i).split('.')[0]\n",
    "#             self.df[fname] = 0\n",
    "#             with open(i) as f:\n",
    "#                 for record in SeqIO.parse(f, 'fasta'):\n",
    "#                     id_split = record.id.split('|')\n",
    "#                     protid = (id_split[1])\n",
    "#                     self.df.loc[self.df['uniprot_id'] == protid, fname] = 1\n",
    "#                     self.df.loc[self.df['uniprot_id'] == protid, 'llps'] = 1\n",
    "    #无序区\n",
    "    def idr_iupred(self):\n",
    "        self.df['iupred'] = object\n",
    "        data = list(self.df[\"sequence\"].iteritems())\n",
    "        p = Pool(32)\n",
    "        for idx, idrpred in tqdm(p.imap(calc_idrpred, data), total=self.df.shape[0]):\n",
    "            self.df.at[idx, 'iupred'] = idrpred\n",
    "        for index, row in tqdm(self.df.iterrows(), total=self.df.shape[0]):\n",
    "            for index, row in self.df.iterrows():\n",
    "                 seq = row['sequence']\n",
    "                 glob = iupred2a.iupred(str(seq), 'glob')\n",
    "                 short = iupred2a.iupred(str(seq), 'short')\n",
    "                 long = iupred2a.iured(str(seq), 'long')\n",
    "                 idrpred = IuPred(glob, short, long)\n",
    "                 self.df.at[index, 'iupred'] = idrpred\n",
    "     #疏水性       \n",
    "    def hydrophobic(self):\n",
    "        for index, row in self.df.iterrows():\n",
    "            hpilst = pd.Series(list(row['sequence'])).map(HP).tolist()\n",
    "            self.df.loc[index, 'HydroPhobicIndex'] = HydroPhobicIndex(hpilst)\n",
    "    #氨基酸分析        \n",
    "    def amino_acid_analysis(self):\n",
    "        for res in RESIDUES:\n",
    "            self.df['fraction_'+res] = self.df['sequence'].str.count(res) / self.df['sequence'].str.len()\n",
    "        self.df['length'] = self.df['sequence'].str.len()\n",
    "        for index, row in tqdm(self.df.iterrows(), total=self.df.shape[0]):\n",
    "        #for index, row in self.df.iterrows():\n",
    "            seq = row['sequence']   \n",
    "            seqanalysis = ProteinAnalysis(seq)\n",
    "            acidist = seqanalysis.get_amino_acids_percent() \n",
    "            self.df.loc[index, 'IEP'] = seqanalysis.isoelectric_point()\n",
    "            if 'X' not in seq and 'B' not in seq:\n",
    "                self.df.loc[index, 'molecular_weight'] = seqanalysis.molecular_weight()\n",
    "            if 'U' not in seq and 'X' not in seq and 'B' not in seq:\n",
    "                self.df.loc[index, 'gravy'] = seqanalysis.gravy()\n",
    "          \n",
    "    #计算了在UIPred2A中得分高于0.5、0.6、0.7、0.8和0,9的氨基酸的比例\n",
    "    def add_iupred_features(self):\n",
    "        for index, row in tqdm(self.df.iterrows(), total=self.df.shape[0]):\n",
    "        #for index, row in self.df.iterrows():\n",
    "            idr = row['iupred'].glob[0]\n",
    "            self.df.loc[index, 'idr_percetage'] = sum(i > .5 for i in list(idr))\n",
    "            self.df.loc[index, 'idr_50'] = sum(i > .5 for i in list(idr)) / len(str(row['sequence']))\n",
    "            self.df.loc[index, 'idr_60'] = sum(i > .6 for i in list(idr)) / len(str(row['sequence']))\n",
    "            self.df.loc[index, 'idr_70'] = sum(i > .7 for i in list(idr)) / len(str(row['sequence']))\n",
    "            self.df.loc[index, 'idr_80'] = sum(i > .8 for i in list(idr)) / len(str(row['sequence']))\n",
    "            self.df.loc[index, 'idr_90'] = sum(i > .9 for i in list(idr)) / len(str(row['sequence']))\n",
    "\n",
    "    def add_hydrophobic_features(self):\n",
    "        #浮点数类型的列表 存储蛋白质的kyte/doolittle分数\n",
    "        hpi0, hpi1, hpi2, hpi3, hpi4, hpi5 = list(), list(), list(), list(), list(), list() \n",
    "        for index, row in tqdm(self.df.iterrows(), total=self.df.shape[0]):\n",
    "        #for index, row in self.df.iterrows():\n",
    "            sw = convolve_signal(row['HydroPhobicIndex'].hpilist, window=30)#Hann窗口为30\n",
    "            #在卷积表中计算一个蛋白质序列中得分低于1.5、2.0或2.5的氨基酸的分数和总数\n",
    "            hpi0.append(sum(i < -1.5 for i in sw) / len(sw))\n",
    "            # self.df.loc[index, 'hpi_<-1.5_frac'] = hpi\n",
    "            hpi1.append(sum(i < -2.0 for i in sw) / len(sw))\n",
    "            # self.df.loc[index, 'hpi_<-2.0_frac'] = hpi\n",
    "            hpi2.append(sum(i < -2.5 for i in sw) / len(sw))\n",
    "            # self.df.loc[index, 'hpi_<-2.5_frac'] = hpi\n",
    "            hpi3.append(sum(i < -1.5 for i in sw))\n",
    "            # self.df.loc[index, 'hpi_<-1.5'] = hpi\n",
    "            hpi4.append( sum(i < -2.0 for i in sw))\n",
    "            # self.df.loc[index, 'hpi_<-2.0'] = hpi\n",
    "            hpi5.append(sum(i < -2.5 for i in sw))\n",
    "            # self.df.loc[index, 'hpi_<-2.5'] = hpi \n",
    "        self.df['hpi_<-1.5_frac'] = hpi0\n",
    "        self.df['hpi_<-2.0_frac'] = hpi1\n",
    "        self.df['hpi_<-2.5_frac'] = hpi2\n",
    "        self.df['hpi_<-1.5'] = hpi3\n",
    "        self.df['hpi_<-2.0'] = hpi4\n",
    "        self.df['hpi_<-2.5'] = hpi5\n",
    "            \n",
    " \n",
    "    def add_biochemical_combinations(self):\n",
    "        df = self.df\n",
    "        #氨基酸组合被分组为:Asx: D, N, Glx: E, Q, Xle: I, L，正电荷:K, R, H，负电荷:D, E，\n",
    "        #芳香:F, W, Y, H，脂肪族:V, I, L, M，小:P, G, A, S，亲水:S, T, H, N, Q, E, D, K, R，疏水:V, I, L, F, W, Y, M。\n",
    "        df = df.assign(Asx=df['fraction_D'] + df['fraction_N'])\n",
    "        df = df.assign(Glx=df['fraction_E'] + df['fraction_Q'])\n",
    "        df = df.assign(Xle=df['fraction_I'] + df['fraction_L'])\n",
    "        df = df.assign(Pos_charge=df['fraction_K'] + df['fraction_R'] + df['fraction_H'])\n",
    "        df = df.assign(Neg_charge=df['fraction_D'] + df['fraction_E'])\n",
    "        df = df.assign(Aromatic=df['fraction_F'] + df['fraction_W'] + df['fraction_Y'] + df['fraction_H'])\n",
    "        df = df.assign(Alipatic=df['fraction_V'] + df['fraction_I'] + df['fraction_L'] + df['fraction_M'])\n",
    "        df = df.assign(Small=df['fraction_P'] + df['fraction_G'] + df['fraction_A'] + df['fraction_S'])\n",
    "        df = df.assign(Hydrophilic=(df['fraction_S'] + df['fraction_T'] + df['fraction_H'] + \n",
    "                                    df['fraction_N'] + df['fraction_Q'] + df['fraction_E'] +\n",
    "                                    df['fraction_D'] + df['fraction_K'] + df['fraction_R']))\n",
    "        df = df.assign(Hydrophobic= (df['fraction_V'] + df['fraction_I'] + df['fraction_L'] +\n",
    "                                     df['fraction_F'] + df['fraction_W'] + df['fraction_Y'] +\n",
    "                                     df['fraction_M']))\n",
    "        \n",
    "        # Added in version 2\n",
    "        for dimer in ['GV', 'VG', 'VP', 'PG', 'FG', 'RG', 'GR', 'GG', 'YG', 'GS', 'SG', 'GA', 'GF', 'GD', 'DS']:\n",
    "            self.df[dimer] = self.df['sequence'].str.count(dimer)\n",
    "        df = df.assign(alpha_helix=df['fraction_V'] + df['fraction_I'] + df['fraction_Y'] + df['fraction_F']\n",
    "                      + df['fraction_W'] + df['fraction_L'])\n",
    "        df = df.assign(beta_turn=df['fraction_N'] + df['fraction_P'] + df['fraction_G'] + df['fraction_S'])\n",
    "        df = df.assign(beta_sheet=df['fraction_E'] + df['fraction_M'] + df['fraction_A'] + df['fraction_L'])\n",
    "        #Calculates the aromaticity value of a protein according to Lobry, 1994. \n",
    "        # It is simply the relative frequency of Phe+Trp+Tyr.\n",
    "        df = df.assign(aromaticity=df['fraction_F'] + df['fraction_W'] + df['fraction_Y'])\n",
    "\n",
    "        \n",
    "        \n",
    "        \n",
    "        self.df = df\n",
    "        del df\n",
    "    #低复杂度的得分\n",
    "    def add_lowcomplexityscore(self):\n",
    "        #对这两个变量进行网格搜索，以找到PPS阳性和阴性样本之间的最低p值。\n",
    "        lcs_window = 20#滑动窗口：20\n",
    "        lcs_cutoff = 7#独特的氨基酸《7\n",
    "        for index, row in self.df.iterrows():\n",
    "            seq = str(row['sequence'])\n",
    "            if len(seq) > lcs_window+1:\n",
    "                sig = list()\n",
    "                for i in range(len(seq)):\n",
    "                    window = (seq[i: i+lcs_window])\n",
    "                    if len(window) == lcs_window:\n",
    "                        acid_comp = len(list(set(window)))\n",
    "                        sig.append(acid_comp)\n",
    "                score = sum([1 if i <= 7 else 0 for i in sig])#对于每个氨基酸都创建一个窗口，当标准满足窗口时，窗口中间的氨基酸得到1分，否则为0分\n",
    "                self.df.loc[index, 'lcs_score'] = score\n",
    "                self.df.loc[index, 'lcs_fraction'] = score / len(sig)#最终的分数除以蛋白质的长度得到总复杂度分数\n",
    "                \n",
    "    #对于每个氨基酸都创建一个窗口，当标准满足窗口时，窗口中间的氨基酸得到1分，否则为0分。            \n",
    "    def add_lowcomplexity_features(self):\n",
    "        n_window = 20\n",
    "        cutoff = 7       \n",
    "        n_halfwindow = int(n_window / 2)        \n",
    "        lcs_lowest_complexity = list()\n",
    "        lcs_scores = list()\n",
    "        lcs_fractions = list()\n",
    "        for index, row in tqdm(self.df.iterrows(), total=self.df.shape[0]):\n",
    "        #for index, row in self.df.iterrows():            \n",
    "            # Determine low complexity scores\n",
    "            seq = str(row['sequence'])\n",
    "            lcs_acids = list()\n",
    "            sig = list()\n",
    "            \n",
    "            # New\n",
    "            lc_bool = [False] * len(seq)\n",
    "            for i in range(len(seq)):\n",
    "                if i < n_halfwindow:\n",
    "                    peptide = seq[:n_window]        \n",
    "                elif i+n_halfwindow > int(len(seq)):\n",
    "                    peptide = seq[-n_window:]        \n",
    "                else:\n",
    "                    peptide = seq[i-n_halfwindow:i+n_halfwindow]       \n",
    "                complexity = (len(set(peptide)))\n",
    "                if complexity <= 7:\n",
    "                    for bool_index in (i-n_halfwindow, i+n_halfwindow):\n",
    "                        try:\n",
    "                            lc_bool[bool_index] = True\n",
    "                        except IndexError:\n",
    "                            pass\n",
    "                    lcs_acids.append(seq[i])\n",
    "                sig.append(complexity)            \n",
    "            # Adding low complexity scores to list\n",
    "            low_complexity_list = pd.DataFrame({'bool':lc_bool, 'acid':list(seq)}, index=None)\n",
    "            lcs_lowest_complexity.append(min(sig))\n",
    "            lcs_scores.append(len(low_complexity_list.loc[low_complexity_list['bool'] == True]))\n",
    "            lcs_fractions.append(len(low_complexity_list.loc[low_complexity_list['bool'] == True]) / len(seq))\n",
    "            low_complexity_list = pd.DataFrame({'bool':lc_bool, 'acid':list(seq)}, index=None)\n",
    "            if len(lcs_acids) >= n_window:\n",
    "                for i in RESIDUES:\n",
    "                    self.df.loc[index ,i+'_lcscore'] = (len(low_complexity_list.loc[\n",
    "                        (low_complexity_list['bool'] == True) &\n",
    "                        (low_complexity_list['acid'] == i)])\n",
    "                    )\n",
    "                    self.df.loc[index ,i+'_lcfraction'] = (len(low_complexity_list.loc[\n",
    "                        (low_complexity_list['bool'] == True) & \n",
    "                        (low_complexity_list['acid'] == i)]) / len(lcs_acids)\n",
    "                    )\n",
    "        self.df['lcs_fractions'] = lcs_fractions\n",
    "        self.df['lcs_scores'] = lcs_scores\n",
    "        self.df['lcs_lowest_complexity'] = lcs_lowest_complexity\n",
    "        \n",
    "    def add_plaac(self):\n",
    "        plaac = CWD+'/data/plaac/plaac_swissprot140219.tsv'\n",
    "        plaac = pd.read_csv(plaac, sep='\\t')\n",
    "        plaac[['database', 'accession', 'name']] = plaac['SEQid'].str.split('|',expand=True)\n",
    "        plaac = plaac.drop(['SEQid', 'database', 'name', 'PAPAaa', 'STARTaa', \n",
    "                            'ENDaa', 'COREaa', 'MW', 'MWstart', 'MWend', 'MWlen'], axis=1)\n",
    "        self.df = pd.merge(self.df, plaac, left_on='uniprot_id', right_on='accession')\n",
    "        self.df = self.df.drop('accession', axis=1)\n",
    "\n",
    "\n",
    "def convolve_signal(sig, window=25):\n",
    "    win = signal.hann(window)\n",
    "    sig = signal.convolve(sig, win, mode='same') / sum(win)\n",
    "    return sig\n",
    "\n",
    "\n",
    "def average(l):\n",
    "    return sum(l) / len(l)"
   ]
  },
  {
   "cell_type": "code",
   "execution_count": 4,
   "metadata": {},
   "outputs": [],
   "source": [
    "def main(name, fasta_path, operating_system='Windows'):\n",
    "    # Change pathing\n",
    "    \"\"\" Generates and saves a file which contains features of a protein sequence.\n",
    "    Parameters:\n",
    "        name: Name of the file.\n",
    "        fasta_path: Path of the fasta file which needs to be featured.\n",
    "        operating_system: String which indicates which operating system is used only 'Windows' available.\n",
    "        生成并保存包含蛋白质序列特征的文件。\n",
    "        参数：\n",
    "        name：文件的名称。\n",
    "        fasta_path：需要使用的fasta文件的路径。\n",
    "        operating_system：字符串，表示只使用“Windows”可用的操作系统。\n",
    "\n",
    "    \"\"\"\n",
    "    data = MakeMatrix(fasta_path)   \n",
    "    now = datetime.datetime.now()\n",
    "    date = (str(now.day) + '-' + str(now.month)  + '-' +  str(now.year))\n",
    "    #if operating_system == 'Windows':\n",
    "    data.df.to_pickle('data/Dataframes/'+ name + '_llps_f2f_' + date + '.pkl')\n",
    "    print('Generated file: ' + name + '_llps_f2f_' + date + '.pkl')\n",
    "    return data.df"
   ]
  },
  {
   "cell_type": "markdown",
   "metadata": {},
   "source": [
    "# Homo sapiens"
   ]
  },
  {
   "cell_type": "code",
   "execution_count": null,
   "metadata": {},
   "outputs": [],
   "source": [
    "human_proteome_path = CWD+'/fasta/test.fasta'\n",
    "df = main(name='test', fasta_path=human_proteome_path)"
   ]
  },
  {
   "cell_type": "code",
   "execution_count": 1,
   "metadata": {},
   "outputs": [
    {
     "ename": "NameError",
     "evalue": "name 'pd' is not defined",
     "output_type": "error",
     "traceback": [
      "\u001b[1;31m---------------------------------------------------------------------------\u001b[0m",
      "\u001b[1;31mNameError\u001b[0m                                 Traceback (most recent call last)",
      "Input \u001b[1;32mIn [1]\u001b[0m, in \u001b[0;36m<cell line: 1>\u001b[1;34m()\u001b[0m\n\u001b[1;32m----> 1\u001b[0m data\u001b[38;5;241m=\u001b[39m\u001b[43mpd\u001b[49m\u001b[38;5;241m.\u001b[39mread_pickle(\u001b[38;5;124m\"\u001b[39m\u001b[38;5;124mD:/jupyter_file/iupred2a/data/Dataframes/test_llps_f2f_14-11-2022.pkl\u001b[39m\u001b[38;5;124m\"\u001b[39m)\n",
      "\u001b[1;31mNameError\u001b[0m: name 'pd' is not defined"
     ]
    }
   ],
   "source": [
    "data=pd.read_pickle(\"D:/jupyter_file/iupred2a/data/Dataframes/test_llps_f2f_14-11-2022.pkl\")"
   ]
  },
  {
   "cell_type": "code",
   "execution_count": 11,
   "metadata": {},
   "outputs": [
    {
     "data": {
      "text/html": [
       "<div>\n",
       "<style scoped>\n",
       "    .dataframe tbody tr th:only-of-type {\n",
       "        vertical-align: middle;\n",
       "    }\n",
       "\n",
       "    .dataframe tbody tr th {\n",
       "        vertical-align: top;\n",
       "    }\n",
       "\n",
       "    .dataframe thead th {\n",
       "        text-align: right;\n",
       "    }\n",
       "</style>\n",
       "<table border=\"1\" class=\"dataframe\">\n",
       "  <thead>\n",
       "    <tr style=\"text-align: right;\">\n",
       "      <th></th>\n",
       "      <th>protein_name</th>\n",
       "      <th>uniprot_id</th>\n",
       "      <th>sequence</th>\n",
       "      <th>fraction_A</th>\n",
       "      <th>fraction_C</th>\n",
       "      <th>fraction_D</th>\n",
       "      <th>fraction_E</th>\n",
       "      <th>fraction_F</th>\n",
       "      <th>fraction_G</th>\n",
       "      <th>fraction_H</th>\n",
       "      <th>...</th>\n",
       "      <th>T_lcfraction</th>\n",
       "      <th>V_lcscore</th>\n",
       "      <th>V_lcfraction</th>\n",
       "      <th>W_lcscore</th>\n",
       "      <th>W_lcfraction</th>\n",
       "      <th>Y_lcscore</th>\n",
       "      <th>Y_lcfraction</th>\n",
       "      <th>lcs_fractions</th>\n",
       "      <th>lcs_scores</th>\n",
       "      <th>lcs_lowest_complexity</th>\n",
       "    </tr>\n",
       "  </thead>\n",
       "  <tbody>\n",
       "    <tr>\n",
       "      <th>0</th>\n",
       "      <td>DDX3_CAEEL</td>\n",
       "      <td>D0PV95</td>\n",
       "      <td>MESNQSNNGGSGNAALNRGGRYVPPHLRGGDGGAAAAASAGGDDRR...</td>\n",
       "      <td>0.056497</td>\n",
       "      <td>0.005650</td>\n",
       "      <td>0.072034</td>\n",
       "      <td>0.052260</td>\n",
       "      <td>0.028249</td>\n",
       "      <td>0.182203</td>\n",
       "      <td>0.014124</td>\n",
       "      <td>...</td>\n",
       "      <td>0.006757</td>\n",
       "      <td>0.0</td>\n",
       "      <td>0.000000</td>\n",
       "      <td>2.0</td>\n",
       "      <td>0.013514</td>\n",
       "      <td>11.0</td>\n",
       "      <td>0.074324</td>\n",
       "      <td>0.295198</td>\n",
       "      <td>209</td>\n",
       "      <td>4</td>\n",
       "    </tr>\n",
       "    <tr>\n",
       "      <th>1</th>\n",
       "      <td>PGL3_CAEEL</td>\n",
       "      <td>G5EBV6</td>\n",
       "      <td>MEANKRQIVEVDGIKSYFFPHLAHYLASNDELLVNNIAQANKLAAF...</td>\n",
       "      <td>0.086580</td>\n",
       "      <td>0.005772</td>\n",
       "      <td>0.056277</td>\n",
       "      <td>0.080808</td>\n",
       "      <td>0.046176</td>\n",
       "      <td>0.088023</td>\n",
       "      <td>0.010101</td>\n",
       "      <td>...</td>\n",
       "      <td>0.018182</td>\n",
       "      <td>0.0</td>\n",
       "      <td>0.000000</td>\n",
       "      <td>0.0</td>\n",
       "      <td>0.000000</td>\n",
       "      <td>5.0</td>\n",
       "      <td>0.090909</td>\n",
       "      <td>0.093795</td>\n",
       "      <td>65</td>\n",
       "      <td>5</td>\n",
       "    </tr>\n",
       "    <tr>\n",
       "      <th>2</th>\n",
       "      <td>PLK4_HUMAN</td>\n",
       "      <td>O00444</td>\n",
       "      <td>MATCIGEKIEDFKVGNLLGKGSFAGVYRAESIHTGLEVAIKMIDKK...</td>\n",
       "      <td>0.050515</td>\n",
       "      <td>0.013402</td>\n",
       "      <td>0.046392</td>\n",
       "      <td>0.058763</td>\n",
       "      <td>0.038144</td>\n",
       "      <td>0.055670</td>\n",
       "      <td>0.028866</td>\n",
       "      <td>...</td>\n",
       "      <td>NaN</td>\n",
       "      <td>NaN</td>\n",
       "      <td>NaN</td>\n",
       "      <td>NaN</td>\n",
       "      <td>NaN</td>\n",
       "      <td>NaN</td>\n",
       "      <td>NaN</td>\n",
       "      <td>0.016495</td>\n",
       "      <td>16</td>\n",
       "      <td>6</td>\n",
       "    </tr>\n",
       "    <tr>\n",
       "      <th>3</th>\n",
       "      <td>DDX3X_HUMAN</td>\n",
       "      <td>O00571</td>\n",
       "      <td>MSHVAVENALGLDQQFAGLDLNSSDNQSGGSTASKGRYIPPHLRNR...</td>\n",
       "      <td>0.055891</td>\n",
       "      <td>0.010574</td>\n",
       "      <td>0.072508</td>\n",
       "      <td>0.061934</td>\n",
       "      <td>0.046828</td>\n",
       "      <td>0.114804</td>\n",
       "      <td>0.021148</td>\n",
       "      <td>...</td>\n",
       "      <td>0.000000</td>\n",
       "      <td>1.0</td>\n",
       "      <td>0.014493</td>\n",
       "      <td>0.0</td>\n",
       "      <td>0.000000</td>\n",
       "      <td>7.0</td>\n",
       "      <td>0.101449</td>\n",
       "      <td>0.170695</td>\n",
       "      <td>113</td>\n",
       "      <td>5</td>\n",
       "    </tr>\n",
       "    <tr>\n",
       "      <th>4</th>\n",
       "      <td>DCP2_SCHPO</td>\n",
       "      <td>O13828</td>\n",
       "      <td>MSFTNATFSQVLDDLSARFILNLPAEEQSSVERLCFQIEQAHWFYE...</td>\n",
       "      <td>0.045884</td>\n",
       "      <td>0.008097</td>\n",
       "      <td>0.055331</td>\n",
       "      <td>0.053981</td>\n",
       "      <td>0.044534</td>\n",
       "      <td>0.031039</td>\n",
       "      <td>0.022942</td>\n",
       "      <td>...</td>\n",
       "      <td>NaN</td>\n",
       "      <td>NaN</td>\n",
       "      <td>NaN</td>\n",
       "      <td>NaN</td>\n",
       "      <td>NaN</td>\n",
       "      <td>NaN</td>\n",
       "      <td>NaN</td>\n",
       "      <td>0.029690</td>\n",
       "      <td>22</td>\n",
       "      <td>7</td>\n",
       "    </tr>\n",
       "    <tr>\n",
       "      <th>...</th>\n",
       "      <td>...</td>\n",
       "      <td>...</td>\n",
       "      <td>...</td>\n",
       "      <td>...</td>\n",
       "      <td>...</td>\n",
       "      <td>...</td>\n",
       "      <td>...</td>\n",
       "      <td>...</td>\n",
       "      <td>...</td>\n",
       "      <td>...</td>\n",
       "      <td>...</td>\n",
       "      <td>...</td>\n",
       "      <td>...</td>\n",
       "      <td>...</td>\n",
       "      <td>...</td>\n",
       "      <td>...</td>\n",
       "      <td>...</td>\n",
       "      <td>...</td>\n",
       "      <td>...</td>\n",
       "      <td>...</td>\n",
       "      <td>...</td>\n",
       "    </tr>\n",
       "    <tr>\n",
       "      <th>102</th>\n",
       "      <td>TPX2_HUMAN</td>\n",
       "      <td>Q9ULW0</td>\n",
       "      <td>MSQVKSSYSYDAPSDFINFSSLDDEGDTQNIDSWFEEKANLENKLL...</td>\n",
       "      <td>0.060241</td>\n",
       "      <td>0.014726</td>\n",
       "      <td>0.037483</td>\n",
       "      <td>0.116466</td>\n",
       "      <td>0.037483</td>\n",
       "      <td>0.029451</td>\n",
       "      <td>0.022758</td>\n",
       "      <td>...</td>\n",
       "      <td>NaN</td>\n",
       "      <td>NaN</td>\n",
       "      <td>NaN</td>\n",
       "      <td>NaN</td>\n",
       "      <td>NaN</td>\n",
       "      <td>NaN</td>\n",
       "      <td>NaN</td>\n",
       "      <td>0.040161</td>\n",
       "      <td>30</td>\n",
       "      <td>6</td>\n",
       "    </tr>\n",
       "    <tr>\n",
       "      <th>103</th>\n",
       "      <td>G3BP2_HUMAN</td>\n",
       "      <td>Q9UN86</td>\n",
       "      <td>MVMEKPSPLLVGREFVRQYYTLLNKAPEYLHRFYGRNSSYVHGGVD...</td>\n",
       "      <td>0.035270</td>\n",
       "      <td>0.002075</td>\n",
       "      <td>0.047718</td>\n",
       "      <td>0.120332</td>\n",
       "      <td>0.039419</td>\n",
       "      <td>0.095436</td>\n",
       "      <td>0.026971</td>\n",
       "      <td>...</td>\n",
       "      <td>0.071429</td>\n",
       "      <td>3.0</td>\n",
       "      <td>0.053571</td>\n",
       "      <td>0.0</td>\n",
       "      <td>0.000000</td>\n",
       "      <td>0.0</td>\n",
       "      <td>0.000000</td>\n",
       "      <td>0.211618</td>\n",
       "      <td>102</td>\n",
       "      <td>6</td>\n",
       "    </tr>\n",
       "    <tr>\n",
       "      <th>104</th>\n",
       "      <td>YTHD2_HUMAN</td>\n",
       "      <td>Q9Y5A9</td>\n",
       "      <td>MSASSLLEQRPKGQGNKVQNGSVHQKDGLNDDDFEPYLSPQARPNN...</td>\n",
       "      <td>0.079447</td>\n",
       "      <td>0.005181</td>\n",
       "      <td>0.044905</td>\n",
       "      <td>0.036269</td>\n",
       "      <td>0.032815</td>\n",
       "      <td>0.096718</td>\n",
       "      <td>0.022453</td>\n",
       "      <td>...</td>\n",
       "      <td>NaN</td>\n",
       "      <td>NaN</td>\n",
       "      <td>NaN</td>\n",
       "      <td>NaN</td>\n",
       "      <td>NaN</td>\n",
       "      <td>NaN</td>\n",
       "      <td>NaN</td>\n",
       "      <td>0.056995</td>\n",
       "      <td>33</td>\n",
       "      <td>6</td>\n",
       "    </tr>\n",
       "    <tr>\n",
       "      <th>105</th>\n",
       "      <td>TACC3_HUMAN</td>\n",
       "      <td>Q9Y6A5</td>\n",
       "      <td>MSLQVLNDKNVSNEKNTENCDFLFSPPEVTGRSSVLRVSQKENVPP...</td>\n",
       "      <td>0.091885</td>\n",
       "      <td>0.017900</td>\n",
       "      <td>0.048926</td>\n",
       "      <td>0.108592</td>\n",
       "      <td>0.021480</td>\n",
       "      <td>0.069212</td>\n",
       "      <td>0.019093</td>\n",
       "      <td>...</td>\n",
       "      <td>NaN</td>\n",
       "      <td>NaN</td>\n",
       "      <td>NaN</td>\n",
       "      <td>NaN</td>\n",
       "      <td>NaN</td>\n",
       "      <td>NaN</td>\n",
       "      <td>NaN</td>\n",
       "      <td>0.019093</td>\n",
       "      <td>16</td>\n",
       "      <td>7</td>\n",
       "    </tr>\n",
       "    <tr>\n",
       "      <th>106</th>\n",
       "      <td>IF2B2_HUMAN</td>\n",
       "      <td>Q9Y6M1</td>\n",
       "      <td>MMNKLYIGNLSPAVTADDLRQLFGDRKLPLAGQVLLKSGYAFVDYP...</td>\n",
       "      <td>0.081803</td>\n",
       "      <td>0.003339</td>\n",
       "      <td>0.030050</td>\n",
       "      <td>0.083472</td>\n",
       "      <td>0.033389</td>\n",
       "      <td>0.075125</td>\n",
       "      <td>0.031720</td>\n",
       "      <td>...</td>\n",
       "      <td>NaN</td>\n",
       "      <td>NaN</td>\n",
       "      <td>NaN</td>\n",
       "      <td>NaN</td>\n",
       "      <td>NaN</td>\n",
       "      <td>NaN</td>\n",
       "      <td>NaN</td>\n",
       "      <td>0.003339</td>\n",
       "      <td>2</td>\n",
       "      <td>7</td>\n",
       "    </tr>\n",
       "  </tbody>\n",
       "</table>\n",
       "<p>107 rows × 91 columns</p>\n",
       "</div>"
      ],
      "text/plain": [
       "    protein_name uniprot_id  \\\n",
       "0     DDX3_CAEEL     D0PV95   \n",
       "1     PGL3_CAEEL     G5EBV6   \n",
       "2     PLK4_HUMAN     O00444   \n",
       "3    DDX3X_HUMAN     O00571   \n",
       "4     DCP2_SCHPO     O13828   \n",
       "..           ...        ...   \n",
       "102   TPX2_HUMAN     Q9ULW0   \n",
       "103  G3BP2_HUMAN     Q9UN86   \n",
       "104  YTHD2_HUMAN     Q9Y5A9   \n",
       "105  TACC3_HUMAN     Q9Y6A5   \n",
       "106  IF2B2_HUMAN     Q9Y6M1   \n",
       "\n",
       "                                              sequence  fraction_A  \\\n",
       "0    MESNQSNNGGSGNAALNRGGRYVPPHLRGGDGGAAAAASAGGDDRR...    0.056497   \n",
       "1    MEANKRQIVEVDGIKSYFFPHLAHYLASNDELLVNNIAQANKLAAF...    0.086580   \n",
       "2    MATCIGEKIEDFKVGNLLGKGSFAGVYRAESIHTGLEVAIKMIDKK...    0.050515   \n",
       "3    MSHVAVENALGLDQQFAGLDLNSSDNQSGGSTASKGRYIPPHLRNR...    0.055891   \n",
       "4    MSFTNATFSQVLDDLSARFILNLPAEEQSSVERLCFQIEQAHWFYE...    0.045884   \n",
       "..                                                 ...         ...   \n",
       "102  MSQVKSSYSYDAPSDFINFSSLDDEGDTQNIDSWFEEKANLENKLL...    0.060241   \n",
       "103  MVMEKPSPLLVGREFVRQYYTLLNKAPEYLHRFYGRNSSYVHGGVD...    0.035270   \n",
       "104  MSASSLLEQRPKGQGNKVQNGSVHQKDGLNDDDFEPYLSPQARPNN...    0.079447   \n",
       "105  MSLQVLNDKNVSNEKNTENCDFLFSPPEVTGRSSVLRVSQKENVPP...    0.091885   \n",
       "106  MMNKLYIGNLSPAVTADDLRQLFGDRKLPLAGQVLLKSGYAFVDYP...    0.081803   \n",
       "\n",
       "     fraction_C  fraction_D  fraction_E  fraction_F  fraction_G  fraction_H  \\\n",
       "0      0.005650    0.072034    0.052260    0.028249    0.182203    0.014124   \n",
       "1      0.005772    0.056277    0.080808    0.046176    0.088023    0.010101   \n",
       "2      0.013402    0.046392    0.058763    0.038144    0.055670    0.028866   \n",
       "3      0.010574    0.072508    0.061934    0.046828    0.114804    0.021148   \n",
       "4      0.008097    0.055331    0.053981    0.044534    0.031039    0.022942   \n",
       "..          ...         ...         ...         ...         ...         ...   \n",
       "102    0.014726    0.037483    0.116466    0.037483    0.029451    0.022758   \n",
       "103    0.002075    0.047718    0.120332    0.039419    0.095436    0.026971   \n",
       "104    0.005181    0.044905    0.036269    0.032815    0.096718    0.022453   \n",
       "105    0.017900    0.048926    0.108592    0.021480    0.069212    0.019093   \n",
       "106    0.003339    0.030050    0.083472    0.033389    0.075125    0.031720   \n",
       "\n",
       "     ...  T_lcfraction  V_lcscore  V_lcfraction  W_lcscore  W_lcfraction  \\\n",
       "0    ...      0.006757        0.0      0.000000        2.0      0.013514   \n",
       "1    ...      0.018182        0.0      0.000000        0.0      0.000000   \n",
       "2    ...           NaN        NaN           NaN        NaN           NaN   \n",
       "3    ...      0.000000        1.0      0.014493        0.0      0.000000   \n",
       "4    ...           NaN        NaN           NaN        NaN           NaN   \n",
       "..   ...           ...        ...           ...        ...           ...   \n",
       "102  ...           NaN        NaN           NaN        NaN           NaN   \n",
       "103  ...      0.071429        3.0      0.053571        0.0      0.000000   \n",
       "104  ...           NaN        NaN           NaN        NaN           NaN   \n",
       "105  ...           NaN        NaN           NaN        NaN           NaN   \n",
       "106  ...           NaN        NaN           NaN        NaN           NaN   \n",
       "\n",
       "     Y_lcscore  Y_lcfraction  lcs_fractions  lcs_scores  lcs_lowest_complexity  \n",
       "0         11.0      0.074324       0.295198         209                      4  \n",
       "1          5.0      0.090909       0.093795          65                      5  \n",
       "2          NaN           NaN       0.016495          16                      6  \n",
       "3          7.0      0.101449       0.170695         113                      5  \n",
       "4          NaN           NaN       0.029690          22                      7  \n",
       "..         ...           ...            ...         ...                    ...  \n",
       "102        NaN           NaN       0.040161          30                      6  \n",
       "103        0.0      0.000000       0.211618         102                      6  \n",
       "104        NaN           NaN       0.056995          33                      6  \n",
       "105        NaN           NaN       0.019093          16                      7  \n",
       "106        NaN           NaN       0.003339           2                      7  \n",
       "\n",
       "[107 rows x 91 columns]"
      ]
     },
     "execution_count": 11,
     "metadata": {},
     "output_type": "execute_result"
    }
   ],
   "source": [
    "df"
   ]
  },
  {
   "cell_type": "code",
   "execution_count": 31,
   "metadata": {},
   "outputs": [
    {
     "data": {
      "text/html": [
       "<div>\n",
       "<style scoped>\n",
       "    .dataframe tbody tr th:only-of-type {\n",
       "        vertical-align: middle;\n",
       "    }\n",
       "\n",
       "    .dataframe tbody tr th {\n",
       "        vertical-align: top;\n",
       "    }\n",
       "\n",
       "    .dataframe thead th {\n",
       "        text-align: right;\n",
       "    }\n",
       "</style>\n",
       "<table border=\"1\" class=\"dataframe\">\n",
       "  <thead>\n",
       "    <tr style=\"text-align: right;\">\n",
       "      <th></th>\n",
       "      <th>protein_name</th>\n",
       "      <th>uniprot_id</th>\n",
       "      <th>sequence</th>\n",
       "    </tr>\n",
       "  </thead>\n",
       "  <tbody>\n",
       "    <tr>\n",
       "      <th>2</th>\n",
       "      <td>PLK4_HUMAN</td>\n",
       "      <td>O00444</td>\n",
       "      <td>MATCIGEKIEDFKVGNLLGKGSFAGVYRAESIHTGLEVAIKMIDKK...</td>\n",
       "    </tr>\n",
       "  </tbody>\n",
       "</table>\n",
       "</div>"
      ],
      "text/plain": [
       "  protein_name uniprot_id                                           sequence\n",
       "2   PLK4_HUMAN     O00444  MATCIGEKIEDFKVGNLLGKGSFAGVYRAESIHTGLEVAIKMIDKK..."
      ]
     },
     "execution_count": 31,
     "metadata": {},
     "output_type": "execute_result"
    }
   ],
   "source": [
    "df[df[\"protein_name\"]==\"PLK4_HUMAN\"]"
   ]
  },
  {
   "cell_type": "code",
   "execution_count": 32,
   "metadata": {},
   "outputs": [
    {
     "data": {
      "text/html": [
       "<div>\n",
       "<style scoped>\n",
       "    .dataframe tbody tr th:only-of-type {\n",
       "        vertical-align: middle;\n",
       "    }\n",
       "\n",
       "    .dataframe tbody tr th {\n",
       "        vertical-align: top;\n",
       "    }\n",
       "\n",
       "    .dataframe thead th {\n",
       "        text-align: right;\n",
       "    }\n",
       "</style>\n",
       "<table border=\"1\" class=\"dataframe\">\n",
       "  <thead>\n",
       "    <tr style=\"text-align: right;\">\n",
       "      <th></th>\n",
       "      <th>protein_name</th>\n",
       "      <th>uniprot_id</th>\n",
       "      <th>sequence</th>\n",
       "    </tr>\n",
       "  </thead>\n",
       "  <tbody>\n",
       "  </tbody>\n",
       "</table>\n",
       "</div>"
      ],
      "text/plain": [
       "Empty DataFrame\n",
       "Columns: [protein_name, uniprot_id, sequence]\n",
       "Index: []"
      ]
     },
     "execution_count": 32,
     "metadata": {},
     "output_type": "execute_result"
    }
   ],
   "source": [
    "df[df[\"protein_name\"] == \"YBX1_HUMAN\"]"
   ]
  },
  {
   "cell_type": "code",
   "execution_count": 22,
   "metadata": {},
   "outputs": [
    {
     "name": "stderr",
     "output_type": "stream",
     "text": [
      "'egrep' 不是内部或外部命令，也不是可运行的程序\n",
      "或批处理文件。\n"
     ]
    }
   ],
   "source": [
    "!egrep \">.*TFG\" data/fasta/UP000005640_9606.fasta"
   ]
  },
  {
   "cell_type": "code",
   "execution_count": 23,
   "metadata": {},
   "outputs": [
    {
     "ename": "NameError",
     "evalue": "name 'data' is not defined",
     "output_type": "error",
     "traceback": [
      "\u001b[1;31m---------------------------------------------------------------------------\u001b[0m",
      "\u001b[1;31mNameError\u001b[0m                                 Traceback (most recent call last)",
      "\u001b[1;32m<ipython-input-23-774704ddc259>\u001b[0m in \u001b[0;36m<module>\u001b[1;34m\u001b[0m\n\u001b[1;32m----> 1\u001b[1;33m \u001b[0mdata\u001b[0m\u001b[1;33m/\u001b[0m\u001b[0mfasta\u001b[0m\u001b[1;33m/\u001b[0m\u001b[0mUP000005640_9606\u001b[0m\u001b[1;33m.\u001b[0m\u001b[0mfasta\u001b[0m\u001b[1;33m(\u001b[0m\u001b[1;33m)\u001b[0m\u001b[1;33m\u001b[0m\u001b[1;33m\u001b[0m\u001b[0m\n\u001b[0m",
      "\u001b[1;31mNameError\u001b[0m: name 'data' is not defined"
     ]
    }
   ],
   "source": [
    "/data/fasta/UP000005640_9606.fasta"
   ]
  },
  {
   "cell_type": "code",
   "execution_count": 24,
   "metadata": {},
   "outputs": [
    {
     "name": "stdout",
     "output_type": "stream",
     "text": [
      "Help on function basename in module ntpath:\n",
      "\n",
      "basename(p)\n",
      "    Returns the final component of a pathname\n",
      "\n"
     ]
    }
   ],
   "source": [
    "help(ntpath.basename)"
   ]
  },
  {
   "cell_type": "code",
   "execution_count": 6,
   "metadata": {},
   "outputs": [],
   "source": [
    "import ntpath"
   ]
  },
  {
   "cell_type": "code",
   "execution_count": 7,
   "metadata": {},
   "outputs": [
    {
     "name": "stdout",
     "output_type": "stream",
     "text": [
      "Help on function basename in module ntpath:\n",
      "\n",
      "basename(p)\n",
      "    Returns the final component of a pathname\n",
      "\n"
     ]
    }
   ],
   "source": [
    "help(ntpath.basename)"
   ]
  },
  {
   "cell_type": "code",
   "execution_count": 8,
   "metadata": {},
   "outputs": [
    {
     "name": "stdout",
     "output_type": "stream",
     "text": [
      "Help on function isabs in module ntpath:\n",
      "\n",
      "isabs(s)\n",
      "    Test whether a path is absolute\n",
      "\n"
     ]
    }
   ],
   "source": [
    "help(ntpath.isabs)"
   ]
  },
  {
   "cell_type": "code",
   "execution_count": 9,
   "metadata": {},
   "outputs": [
    {
     "name": "stdout",
     "output_type": "stream",
     "text": [
      "Help on function dirname in module ntpath:\n",
      "\n",
      "dirname(p)\n",
      "    Returns the directory component of a pathname\n",
      "\n"
     ]
    }
   ],
   "source": [
    "help(ntpath.dirname)"
   ]
  },
  {
   "cell_type": "code",
   "execution_count": 10,
   "metadata": {},
   "outputs": [
    {
     "name": "stdout",
     "output_type": "stream",
     "text": [
      "Help on function normpath in module ntpath:\n",
      "\n",
      "normpath(path)\n",
      "    Normalize path, eliminating double slashes, etc.\n",
      "\n"
     ]
    }
   ],
   "source": [
    "help(ntpath.normpath)"
   ]
  },
  {
   "cell_type": "code",
   "execution_count": 12,
   "metadata": {},
   "outputs": [],
   "source": [
    "from scipy import signal"
   ]
  },
  {
   "cell_type": "code",
   "execution_count": 13,
   "metadata": {},
   "outputs": [
    {
     "name": "stdout",
     "output_type": "stream",
     "text": [
      "Help on function hann in module scipy.signal:\n",
      "\n",
      "hann(*args, **kwargs)\n",
      "    Return a Hann window.\n",
      "    \n",
      "    The Hann window is a taper formed by using a raised cosine or sine-squared\n",
      "    with ends that touch zero.\n",
      "    \n",
      "    .. warning:: scipy.signal.hann is deprecated,\n",
      "                 use scipy.signal.windows.hann instead.\n",
      "    \n",
      "    Parameters\n",
      "    ----------\n",
      "    M : int\n",
      "        Number of points in the output window. If zero or less, an empty\n",
      "        array is returned.\n",
      "    sym : bool, optional\n",
      "        When True (default), generates a symmetric window, for use in filter\n",
      "        design.\n",
      "        When False, generates a periodic window, for use in spectral analysis.\n",
      "    \n",
      "    Returns\n",
      "    -------\n",
      "    w : ndarray\n",
      "        The window, with the maximum value normalized to 1 (though the value 1\n",
      "        does not appear if `M` is even and `sym` is True).\n",
      "    \n",
      "    Notes\n",
      "    -----\n",
      "    The Hann window is defined as\n",
      "    \n",
      "    .. math::  w(n) = 0.5 - 0.5 \\cos\\left(\\frac{2\\pi{n}}{M-1}\\right)\n",
      "               \\qquad 0 \\leq n \\leq M-1\n",
      "    \n",
      "    The window was named for Julius von Hann, an Austrian meteorologist. It is\n",
      "    also known as the Cosine Bell. It is sometimes erroneously referred to as\n",
      "    the \"Hanning\" window, from the use of \"hann\" as a verb in the original\n",
      "    paper and confusion with the very similar Hamming window.\n",
      "    \n",
      "    Most references to the Hann window come from the signal processing\n",
      "    literature, where it is used as one of many windowing functions for\n",
      "    smoothing values.  It is also known as an apodization (which means\n",
      "    \"removing the foot\", i.e. smoothing discontinuities at the beginning\n",
      "    and end of the sampled signal) or tapering function.\n",
      "    \n",
      "    References\n",
      "    ----------\n",
      "    .. [1] Blackman, R.B. and Tukey, J.W., (1958) The measurement of power\n",
      "           spectra, Dover Publications, New York.\n",
      "    .. [2] E.R. Kanasewich, \"Time Sequence Analysis in Geophysics\",\n",
      "           The University of Alberta Press, 1975, pp. 106-108.\n",
      "    .. [3] Wikipedia, \"Window function\",\n",
      "           https://en.wikipedia.org/wiki/Window_function\n",
      "    .. [4] W.H. Press,  B.P. Flannery, S.A. Teukolsky, and W.T. Vetterling,\n",
      "           \"Numerical Recipes\", Cambridge University Press, 1986, page 425.\n",
      "    \n",
      "    Examples\n",
      "    --------\n",
      "    Plot the window and its frequency response:\n",
      "    \n",
      "    >>> from scipy import signal\n",
      "    >>> from scipy.fft import fft, fftshift\n",
      "    >>> import matplotlib.pyplot as plt\n",
      "    \n",
      "    >>> window = signal.windows.hann(51)\n",
      "    >>> plt.plot(window)\n",
      "    >>> plt.title(\"Hann window\")\n",
      "    >>> plt.ylabel(\"Amplitude\")\n",
      "    >>> plt.xlabel(\"Sample\")\n",
      "    \n",
      "    >>> plt.figure()\n",
      "    >>> A = fft(window, 2048) / (len(window)/2.0)\n",
      "    >>> freq = np.linspace(-0.5, 0.5, len(A))\n",
      "    >>> response = np.abs(fftshift(A / abs(A).max()))\n",
      "    >>> response = 20 * np.log10(np.maximum(response, 1e-10))\n",
      "    >>> plt.plot(freq, response)\n",
      "    >>> plt.axis([-0.5, 0.5, -120, 0])\n",
      "    >>> plt.title(\"Frequency response of the Hann window\")\n",
      "    >>> plt.ylabel(\"Normalized magnitude [dB]\")\n",
      "    >>> plt.xlabel(\"Normalized frequency [cycles per sample]\")\n",
      "\n"
     ]
    }
   ],
   "source": [
    "help(signal.hann)"
   ]
  },
  {
   "cell_type": "code",
   "execution_count": 14,
   "metadata": {},
   "outputs": [],
   "source": [
    "from scipy.fft import fft, fftshift\n",
    "import matplotlib.pyplot as plt"
   ]
  },
  {
   "cell_type": "code",
   "execution_count": 16,
   "metadata": {},
   "outputs": [],
   "source": [
    "window=signal.windows.hann(51)"
   ]
  },
  {
   "cell_type": "code",
   "execution_count": 17,
   "metadata": {},
   "outputs": [
    {
     "data": {
      "text/plain": [
       "[<matplotlib.lines.Line2D at 0x1dbd8f39c10>]"
      ]
     },
     "execution_count": 17,
     "metadata": {},
     "output_type": "execute_result"
    },
    {
     "data": {
      "image/png": "[encoded data removed]",
      "text/plain": [
       "<Figure size 432x288 with 1 Axes>"
      ]
     },
     "metadata": {
      "needs_background": "light"
     },
     "output_type": "display_data"
    }
   ],
   "source": [
    "plt.plot(window)"
   ]
  },
  {
   "cell_type": "code",
   "execution_count": 18,
   "metadata": {},
   "outputs": [
    {
     "data": {
      "text/plain": [
       "Text(0.5, 0, 'Sample')"
      ]
     },
     "execution_count": 18,
     "metadata": {},
     "output_type": "execute_result"
    },
    {
     "data": {
      "image/png": "[encoded data removed]",
      "text/plain": [
       "<Figure size 432x288 with 1 Axes>"
      ]
     },
     "metadata": {
      "needs_background": "light"
     },
     "output_type": "display_data"
    }
   ],
   "source": [
    "plt.title(\"Hann window\")\n",
    "plt.ylabel(\"Amplitude\")\n",
    "plt.xlabel(\"Sample\")"
   ]
  },
  {
   "cell_type": "code",
   "execution_count": 19,
   "metadata": {},
   "outputs": [
    {
     "name": "stdout",
     "output_type": "stream",
     "text": [
      "Help on function convolve in module scipy.signal.signaltools:\n",
      "\n",
      "convolve(in1, in2, mode='full', method='auto')\n",
      "    Convolve two N-dimensional arrays.\n",
      "    \n",
      "    Convolve `in1` and `in2`, with the output size determined by the\n",
      "    `mode` argument.\n",
      "    \n",
      "    Parameters\n",
      "    ----------\n",
      "    in1 : array_like\n",
      "        First input.\n",
      "    in2 : array_like\n",
      "        Second input. Should have the same number of dimensions as `in1`.\n",
      "    mode : str {'full', 'valid', 'same'}, optional\n",
      "        A string indicating the size of the output:\n",
      "    \n",
      "        ``full``\n",
      "           The output is the full discrete linear convolution\n",
      "           of the inputs. (Default)\n",
      "        ``valid``\n",
      "           The output consists only of those elements that do not\n",
      "           rely on the zero-padding. In 'valid' mode, either `in1` or `in2`\n",
      "           must be at least as large as the other in every dimension.\n",
      "        ``same``\n",
      "           The output is the same size as `in1`, centered\n",
      "           with respect to the 'full' output.\n",
      "    method : str {'auto', 'direct', 'fft'}, optional\n",
      "        A string indicating which method to use to calculate the convolution.\n",
      "    \n",
      "        ``direct``\n",
      "           The convolution is determined directly from sums, the definition of\n",
      "           convolution.\n",
      "        ``fft``\n",
      "           The Fourier Transform is used to perform the convolution by calling\n",
      "           `fftconvolve`.\n",
      "        ``auto``\n",
      "           Automatically chooses direct or Fourier method based on an estimate\n",
      "           of which is faster (default).  See Notes for more detail.\n",
      "    \n",
      "           .. versionadded:: 0.19.0\n",
      "    \n",
      "    Returns\n",
      "    -------\n",
      "    convolve : array\n",
      "        An N-dimensional array containing a subset of the discrete linear\n",
      "        convolution of `in1` with `in2`.\n",
      "    \n",
      "    See Also\n",
      "    --------\n",
      "    numpy.polymul : performs polynomial multiplication (same operation, but\n",
      "                    also accepts poly1d objects)\n",
      "    choose_conv_method : chooses the fastest appropriate convolution method\n",
      "    fftconvolve : Always uses the FFT method.\n",
      "    oaconvolve : Uses the overlap-add method to do convolution, which is\n",
      "                 generally faster when the input arrays are large and\n",
      "                 significantly different in size.\n",
      "    \n",
      "    Notes\n",
      "    -----\n",
      "    By default, `convolve` and `correlate` use ``method='auto'``, which calls\n",
      "    `choose_conv_method` to choose the fastest method using pre-computed\n",
      "    values (`choose_conv_method` can also measure real-world timing with a\n",
      "    keyword argument). Because `fftconvolve` relies on floating point numbers,\n",
      "    there are certain constraints that may force `method=direct` (more detail\n",
      "    in `choose_conv_method` docstring).\n",
      "    \n",
      "    Examples\n",
      "    --------\n",
      "    Smooth a square pulse using a Hann window:\n",
      "    \n",
      "    >>> from scipy import signal\n",
      "    >>> sig = np.repeat([0., 1., 0.], 100)\n",
      "    >>> win = signal.windows.hann(50)\n",
      "    >>> filtered = signal.convolve(sig, win, mode='same') / sum(win)\n",
      "    \n",
      "    >>> import matplotlib.pyplot as plt\n",
      "    >>> fig, (ax_orig, ax_win, ax_filt) = plt.subplots(3, 1, sharex=True)\n",
      "    >>> ax_orig.plot(sig)\n",
      "    >>> ax_orig.set_title('Original pulse')\n",
      "    >>> ax_orig.margins(0, 0.1)\n",
      "    >>> ax_win.plot(win)\n",
      "    >>> ax_win.set_title('Filter impulse response')\n",
      "    >>> ax_win.margins(0, 0.1)\n",
      "    >>> ax_filt.plot(filtered)\n",
      "    >>> ax_filt.set_title('Filtered signal')\n",
      "    >>> ax_filt.margins(0, 0.1)\n",
      "    >>> fig.tight_layout()\n",
      "    >>> fig.show()\n",
      "\n"
     ]
    }
   ],
   "source": [
    "help(signal.convolve)"
   ]
  },
  {
   "cell_type": "code",
   "execution_count": 20,
   "metadata": {},
   "outputs": [],
   "source": [
    "import numpy as np"
   ]
  },
  {
   "cell_type": "code",
   "execution_count": 21,
   "metadata": {},
   "outputs": [
    {
     "name": "stdout",
     "output_type": "stream",
     "text": [
      "Help on function repeat in module numpy:\n",
      "\n",
      "repeat(a, repeats, axis=None)\n",
      "    Repeat elements of an array.\n",
      "    \n",
      "    Parameters\n",
      "    ----------\n",
      "    a : array_like\n",
      "        Input array.\n",
      "    repeats : int or array of ints\n",
      "        The number of repetitions for each element.  `repeats` is broadcasted\n",
      "        to fit the shape of the given axis.\n",
      "    axis : int, optional\n",
      "        The axis along which to repeat values.  By default, use the\n",
      "        flattened input array, and return a flat output array.\n",
      "    \n",
      "    Returns\n",
      "    -------\n",
      "    repeated_array : ndarray\n",
      "        Output array which has the same shape as `a`, except along\n",
      "        the given axis.\n",
      "    \n",
      "    See Also\n",
      "    --------\n",
      "    tile : Tile an array.\n",
      "    unique : Find the unique elements of an array.\n",
      "    \n",
      "    Examples\n",
      "    --------\n",
      "    >>> np.repeat(3, 4)\n",
      "    array([3, 3, 3, 3])\n",
      "    >>> x = np.array([[1,2],[3,4]])\n",
      "    >>> np.repeat(x, 2)\n",
      "    array([1, 1, 2, 2, 3, 3, 4, 4])\n",
      "    >>> np.repeat(x, 3, axis=1)\n",
      "    array([[1, 1, 1, 2, 2, 2],\n",
      "           [3, 3, 3, 4, 4, 4]])\n",
      "    >>> np.repeat(x, [1, 2], axis=0)\n",
      "    array([[1, 2],\n",
      "           [3, 4],\n",
      "           [3, 4]])\n",
      "\n"
     ]
    }
   ],
   "source": [
    "help(np.repeat)"
   ]
  },
  {
   "cell_type": "code",
   "execution_count": 22,
   "metadata": {},
   "outputs": [],
   "source": [
    "x=np.array([[1,2],[3,4]])"
   ]
  },
  {
   "cell_type": "code",
   "execution_count": 23,
   "metadata": {},
   "outputs": [
    {
     "data": {
      "text/plain": [
       "array([[1, 2],\n",
       "       [3, 4]])"
      ]
     },
     "execution_count": 23,
     "metadata": {},
     "output_type": "execute_result"
    }
   ],
   "source": [
    "x"
   ]
  },
  {
   "cell_type": "code",
   "execution_count": 35,
   "metadata": {},
   "outputs": [],
   "source": [
    "b=np.repeat(x,[1,2],axis=1)"
   ]
  },
  {
   "cell_type": "code",
   "execution_count": 36,
   "metadata": {},
   "outputs": [
    {
     "data": {
      "text/plain": [
       "(2, 3)"
      ]
     },
     "execution_count": 36,
     "metadata": {},
     "output_type": "execute_result"
    }
   ],
   "source": [
    "b.shape"
   ]
  },
  {
   "cell_type": "code",
   "execution_count": 28,
   "metadata": {},
   "outputs": [
    {
     "ename": "NameError",
     "evalue": "name 'a' is not defined",
     "output_type": "error",
     "traceback": [
      "\u001b[1;31m---------------------------------------------------------------------------\u001b[0m",
      "\u001b[1;31mNameError\u001b[0m                                 Traceback (most recent call last)",
      "Input \u001b[1;32mIn [28]\u001b[0m, in \u001b[0;36m<cell line: 1>\u001b[1;34m()\u001b[0m\n\u001b[1;32m----> 1\u001b[0m \u001b[43ma\u001b[49m\u001b[38;5;241m.\u001b[39mshape\n",
      "\u001b[1;31mNameError\u001b[0m: name 'a' is not defined"
     ]
    }
   ],
   "source": [
    "a.shape"
   ]
  },
  {
   "cell_type": "code",
   "execution_count": 29,
   "metadata": {},
   "outputs": [
    {
     "data": {
      "text/plain": [
       "(2, 2)"
      ]
     },
     "execution_count": 29,
     "metadata": {},
     "output_type": "execute_result"
    }
   ],
   "source": [
    "x.shape"
   ]
  },
  {
   "cell_type": "code",
   "execution_count": 31,
   "metadata": {},
   "outputs": [
    {
     "data": {
      "text/plain": [
       "array([[1, 2],\n",
       "       [3, 4]])"
      ]
     },
     "execution_count": 31,
     "metadata": {},
     "output_type": "execute_result"
    }
   ],
   "source": [
    "x"
   ]
  },
  {
   "cell_type": "code",
   "execution_count": 37,
   "metadata": {},
   "outputs": [
    {
     "data": {
      "text/plain": [
       "array([[1, 2, 2],\n",
       "       [3, 4, 4]])"
      ]
     },
     "execution_count": 37,
     "metadata": {},
     "output_type": "execute_result"
    }
   ],
   "source": [
    "b"
   ]
  },
  {
   "cell_type": "code",
   "execution_count": 38,
   "metadata": {},
   "outputs": [],
   "source": [
    "sig = np.repeat([0., 1., 0.], 100)"
   ]
  },
  {
   "cell_type": "code",
   "execution_count": 39,
   "metadata": {},
   "outputs": [
    {
     "data": {
      "text/plain": [
       "array([0., 0., 0., 0., 0., 0., 0., 0., 0., 0., 0., 0., 0., 0., 0., 0., 0.,\n",
       "       0., 0., 0., 0., 0., 0., 0., 0., 0., 0., 0., 0., 0., 0., 0., 0., 0.,\n",
       "       0., 0., 0., 0., 0., 0., 0., 0., 0., 0., 0., 0., 0., 0., 0., 0., 0.,\n",
       "       0., 0., 0., 0., 0., 0., 0., 0., 0., 0., 0., 0., 0., 0., 0., 0., 0.,\n",
       "       0., 0., 0., 0., 0., 0., 0., 0., 0., 0., 0., 0., 0., 0., 0., 0., 0.,\n",
       "       0., 0., 0., 0., 0., 0., 0., 0., 0., 0., 0., 0., 0., 0., 0., 1., 1.,\n",
       "       1., 1., 1., 1., 1., 1., 1., 1., 1., 1., 1., 1., 1., 1., 1., 1., 1.,\n",
       "       1., 1., 1., 1., 1., 1., 1., 1., 1., 1., 1., 1., 1., 1., 1., 1., 1.,\n",
       "       1., 1., 1., 1., 1., 1., 1., 1., 1., 1., 1., 1., 1., 1., 1., 1., 1.,\n",
       "       1., 1., 1., 1., 1., 1., 1., 1., 1., 1., 1., 1., 1., 1., 1., 1., 1.,\n",
       "       1., 1., 1., 1., 1., 1., 1., 1., 1., 1., 1., 1., 1., 1., 1., 1., 1.,\n",
       "       1., 1., 1., 1., 1., 1., 1., 1., 1., 1., 1., 1., 1., 0., 0., 0., 0.,\n",
       "       0., 0., 0., 0., 0., 0., 0., 0., 0., 0., 0., 0., 0., 0., 0., 0., 0.,\n",
       "       0., 0., 0., 0., 0., 0., 0., 0., 0., 0., 0., 0., 0., 0., 0., 0., 0.,\n",
       "       0., 0., 0., 0., 0., 0., 0., 0., 0., 0., 0., 0., 0., 0., 0., 0., 0.,\n",
       "       0., 0., 0., 0., 0., 0., 0., 0., 0., 0., 0., 0., 0., 0., 0., 0., 0.,\n",
       "       0., 0., 0., 0., 0., 0., 0., 0., 0., 0., 0., 0., 0., 0., 0., 0., 0.,\n",
       "       0., 0., 0., 0., 0., 0., 0., 0., 0., 0., 0.])"
      ]
     },
     "execution_count": 39,
     "metadata": {},
     "output_type": "execute_result"
    }
   ],
   "source": [
    "sig"
   ]
  },
  {
   "cell_type": "code",
   "execution_count": null,
   "metadata": {},
   "outputs": [],
   "source": []
  }
 ],
 "metadata": {
  "kernelspec": {
   "display_name": "Python [conda env:anaconda3]",
   "language": "python",
   "name": "conda-env-anaconda3-py"
  },
  "language_info": {
   "codemirror_mode": {
    "name": "ipython",
    "version": 3
   },
   "file_extension": ".py",
   "mimetype": "text/x-python",
   "name": "python",
   "nbconvert_exporter": "python",
   "pygments_lexer": "ipython3",
   "version": "3.8.8"
  }
 },
 "nbformat": 4,
 "nbformat_minor": 2
}
